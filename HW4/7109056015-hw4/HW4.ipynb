{
  "nbformat": 4,
  "nbformat_minor": 0,
  "metadata": {
    "colab": {
      "name": "HW4.ipynb",
      "provenance": []
    },
    "kernelspec": {
      "name": "python3",
      "display_name": "Python 3"
    },
    "accelerator": "GPU"
  },
  "cells": [
    {
      "cell_type": "markdown",
      "metadata": {
        "id": "Q3Fv20Prr4uL"
      },
      "source": [
        "## 訓練 Training"
      ]
    },
    {
      "cell_type": "code",
      "metadata": {
        "id": "WrX7u24KZqLV",
        "colab": {
          "base_uri": "https://localhost:8080/"
        },
        "outputId": "42f11121-50fa-47ee-e9c5-c6f2a97bbbf2"
      },
      "source": [
        "from google.colab import drive\r\n",
        "drive.mount('/content/drive', force_remount=True)"
      ],
      "execution_count": 1,
      "outputs": [
        {
          "output_type": "stream",
          "text": [
            "Mounted at /content/drive\n"
          ],
          "name": "stdout"
        }
      ]
    },
    {
      "cell_type": "code",
      "metadata": {
        "id": "mZQS3pQ1Ws60"
      },
      "source": [
        "from keras.preprocessing.image import ImageDataGenerator\r\n",
        "import matplotlib.pyplot as plt\r\n",
        "import tensorflow as tf\r\n",
        "import keras\r\n",
        "from tensorflow.keras.models import Sequential\r\n",
        "from tensorflow.keras.layers import Dense, Flatten, Dropout, Activation, Conv2D, MaxPooling2D, BatchNormalization\r\n",
        "from PIL import ImageFile\r\n",
        "ImageFile.LOAD_TRUNCATED_IMAGES = True"
      ],
      "execution_count": 2,
      "outputs": []
    },
    {
      "cell_type": "code",
      "metadata": {
        "id": "qtFkzY9DZZHX"
      },
      "source": [
        "# 訓練樣本目錄和測試樣本目錄\r\n",
        "train_dir = '/content/drive/MyDrive/HW4/train'\r\n",
        "test_dir = '/content/drive/MyDrive/HW4/validation'\r\n",
        "\r\n",
        "# 對訓練圖像做正規化\r\n",
        "train_pic_gen = ImageDataGenerator(rescale=1./255)\r\n",
        "\r\n",
        "# 對測試圖像做正規化\r\n",
        "test_pic_gen = ImageDataGenerator(rescale=1./255)"
      ],
      "execution_count": 3,
      "outputs": []
    },
    {
      "cell_type": "code",
      "metadata": {
        "id": "i6wYi5m4Z4J1",
        "colab": {
          "base_uri": "https://localhost:8080/"
        },
        "outputId": "2ab9fad3-c7a8-4206-ed5e-6423242e2a94"
      },
      "source": [
        "# 利用 .flow_from_directory 函數生成訓練數據\r\n",
        "train_flow = train_pic_gen.flow_from_directory(train_dir,\r\n",
        "                        target_size=(224,224),\r\n",
        "                        batch_size=64,\r\n",
        "                        class_mode='categorical')\r\n",
        "\r\n",
        "# 利用 .flow_from_directory 函數生成測試數據\r\n",
        "test_flow = test_pic_gen.flow_from_directory(test_dir,\r\n",
        "                      target_size=(224,224),\r\n",
        "                      batch_size=64,\r\n",
        "                      class_mode='categorical')\r\n",
        "print(train_flow.class_indices)"
      ],
      "execution_count": 4,
      "outputs": [
        {
          "output_type": "stream",
          "text": [
            "Found 472 images belonging to 2 classes.\n",
            "Found 116 images belonging to 2 classes.\n",
            "{'indoor': 0, 'outdoor': 1}\n"
          ],
          "name": "stdout"
        }
      ]
    },
    {
      "cell_type": "code",
      "metadata": {
        "id": "hCrHUxOQaFuh"
      },
      "source": [
        "#搭建網路\r\n",
        "resize = 224\r\n",
        "tbCallBack = keras.callbacks.TensorBoard(log_dir='./logs/1',\r\n",
        "                      histogram_freq= 0,\r\n",
        "                      write_graph=True,\r\n",
        "                      write_images=True)\r\n",
        "\r\n",
        "model = Sequential()\r\n",
        "\r\n",
        "# level1\r\n",
        "model.add(Conv2D(filters=96,kernel_size=(11,11),\r\n",
        "        strides=(4,4),padding='valid',\r\n",
        "        input_shape=(resize,resize,3),\r\n",
        "        activation='relu'))\r\n",
        "model.add(BatchNormalization())\r\n",
        "model.add(MaxPooling2D(pool_size=(3,3),\r\n",
        "            strides=(2,2),\r\n",
        "            padding='valid'))\r\n",
        "\r\n",
        "# level_2\r\n",
        "model.add(Conv2D(filters=256,kernel_size=(5,5),\r\n",
        "        strides=(1,1),padding='same',\r\n",
        "        activation='relu'))\r\n",
        "model.add(BatchNormalization())\r\n",
        "model.add(MaxPooling2D(pool_size=(3,3),\r\n",
        "          strides=(2,2),\r\n",
        "          padding='valid'))\r\n",
        "\r\n",
        "# layer_3\r\n",
        "model.add(Conv2D(filters=384,kernel_size=(3,3),\r\n",
        "        strides=(1,1),padding='same',\r\n",
        "        activation='relu'))\r\n",
        "model.add(BatchNormalization())\r\n",
        "model.add(Conv2D(filters=384,kernel_size=(3,3),\r\n",
        "        strides=(1,1),padding='same',\r\n",
        "        activation='relu'))\r\n",
        "model.add(BatchNormalization())\r\n",
        "model.add(Conv2D(filters=356,kernel_size=(3,3),\r\n",
        "        activation='relu'))\r\n",
        "model.add(BatchNormalization())\r\n",
        "model.add(MaxPooling2D(pool_size=(3,3),\r\n",
        "          strides=(2,2),padding='valid'))\r\n",
        "\r\n",
        "# layer_4\r\n",
        "model.add(Flatten())\r\n",
        "model.add(Dense(4096,activation='relu'))\r\n",
        "model.add(Dropout(0.5))\r\n",
        "\r\n",
        "model.add(Dense(4096,activation='relu'))\r\n",
        "model.add(Dropout(0.5))\r\n",
        "\r\n",
        "model.add(Dense(1000,activation='relu'))\r\n",
        "model.add(Dropout(0.5))\r\n",
        "\r\n",
        "# output layer\r\n",
        "model.add(Dense(2))\r\n",
        "model.add(Activation('softmax'))\r\n",
        "\r\n",
        "model.compile(loss='categorical_crossentropy',\r\n",
        "      optimizer='sgd',\r\n",
        "      metrics=['accuracy'])"
      ],
      "execution_count": 5,
      "outputs": []
    },
    {
      "cell_type": "code",
      "metadata": {
        "id": "sNAk_nZ9aqNC",
        "colab": {
          "base_uri": "https://localhost:8080/"
        },
        "outputId": "fe37666a-171e-43ba-bc13-d43c183ce9d1"
      },
      "source": [
        "#train\r\n",
        "his = model.fit(train_flow,\r\n",
        "        epochs=15,\r\n",
        "        verbose=1,\r\n",
        "        validation_data=test_flow,\r\n",
        "        callbacks=[tbCallBack])\r\n",
        "\r\n",
        "model.save('/content/drive/MyDrive/HW4/my_model.h5')"
      ],
      "execution_count": 6,
      "outputs": [
        {
          "output_type": "stream",
          "text": [
            "Epoch 1/15\n",
            "8/8 [==============================] - 186s 23s/step - loss: 5.6046 - accuracy: 0.4964 - val_loss: 0.7206 - val_accuracy: 0.5086\n",
            "Epoch 2/15\n",
            "8/8 [==============================] - 67s 9s/step - loss: 1.3211 - accuracy: 0.5480 - val_loss: 0.6848 - val_accuracy: 0.5345\n",
            "Epoch 3/15\n",
            "8/8 [==============================] - 68s 9s/step - loss: 0.8739 - accuracy: 0.6356 - val_loss: 0.6601 - val_accuracy: 0.6121\n",
            "Epoch 4/15\n",
            "8/8 [==============================] - 67s 9s/step - loss: 0.6777 - accuracy: 0.6758 - val_loss: 0.6528 - val_accuracy: 0.5690\n",
            "Epoch 5/15\n",
            "8/8 [==============================] - 67s 8s/step - loss: 0.5153 - accuracy: 0.7621 - val_loss: 0.6581 - val_accuracy: 0.5431\n",
            "Epoch 6/15\n",
            "8/8 [==============================] - 67s 8s/step - loss: 0.5352 - accuracy: 0.7875 - val_loss: 0.6370 - val_accuracy: 0.6293\n",
            "Epoch 7/15\n",
            "8/8 [==============================] - 67s 9s/step - loss: 0.5030 - accuracy: 0.7658 - val_loss: 0.6440 - val_accuracy: 0.5776\n",
            "Epoch 8/15\n",
            "8/8 [==============================] - 67s 9s/step - loss: 0.4837 - accuracy: 0.7634 - val_loss: 0.6208 - val_accuracy: 0.7500\n",
            "Epoch 9/15\n",
            "8/8 [==============================] - 67s 8s/step - loss: 0.4600 - accuracy: 0.7945 - val_loss: 0.6298 - val_accuracy: 0.6810\n",
            "Epoch 10/15\n",
            "8/8 [==============================] - 67s 9s/step - loss: 0.4291 - accuracy: 0.8135 - val_loss: 0.6196 - val_accuracy: 0.6897\n",
            "Epoch 11/15\n",
            "8/8 [==============================] - 67s 9s/step - loss: 0.3351 - accuracy: 0.8514 - val_loss: 0.6275 - val_accuracy: 0.6207\n",
            "Epoch 12/15\n",
            "8/8 [==============================] - 67s 8s/step - loss: 0.3598 - accuracy: 0.8312 - val_loss: 0.6260 - val_accuracy: 0.7069\n",
            "Epoch 13/15\n",
            "8/8 [==============================] - 67s 9s/step - loss: 0.3934 - accuracy: 0.8402 - val_loss: 0.6325 - val_accuracy: 0.7241\n",
            "Epoch 14/15\n",
            "8/8 [==============================] - 67s 8s/step - loss: 0.3600 - accuracy: 0.8332 - val_loss: 0.6600 - val_accuracy: 0.5431\n",
            "Epoch 15/15\n",
            "8/8 [==============================] - 67s 9s/step - loss: 0.3522 - accuracy: 0.8570 - val_loss: 0.6429 - val_accuracy: 0.6293\n"
          ],
          "name": "stdout"
        }
      ]
    },
    {
      "cell_type": "markdown",
      "metadata": {
        "id": "Syv1nzSusDtm"
      },
      "source": [
        "## 預測 Testing"
      ]
    },
    {
      "cell_type": "code",
      "metadata": {
        "id": "DwJGtLzfsHVB"
      },
      "source": [
        "import os\r\n",
        "import cv2\r\n",
        "import numpy as np\r\n",
        "import tensorflow as tf\r\n",
        "from tensorflow.keras import layers, models"
      ],
      "execution_count": 14,
      "outputs": []
    },
    {
      "cell_type": "code",
      "metadata": {
        "id": "pWSj7202sZjW"
      },
      "source": [
        "## 載入模型\r\n",
        "model = tf.keras.models.load_model('/content/drive/MyDrive/HW4/my_model.h5')"
      ],
      "execution_count": 9,
      "outputs": []
    },
    {
      "cell_type": "code",
      "metadata": {
        "colab": {
          "base_uri": "https://localhost:8080/"
        },
        "id": "XHKoP0vOseov",
        "outputId": "0700a7ff-eead-4a4c-af51-8d8c3b97d9b8"
      },
      "source": [
        "def predict(img):\r\n",
        "  test_img = cv2.resize(img,(224,224))\r\n",
        "  test_img = np.asarray(test_img.astype('float32'))\r\n",
        "  test_img = test_img/255.\r\n",
        "  test_img = test_img.reshape((1,224,224,3))\r\n",
        "\r\n",
        "  prediction = model.predict(test_img)\r\n",
        "  index = np.argmax(prediction)\r\n",
        "  return dictionary[index]\r\n",
        "\t\r\n",
        "dictionary = {0:'indoor', 1:'outdoor'}\r\n",
        "for filename in os.listdir('/content/drive/MyDrive/HW4/test'):\r\n",
        "  img = cv2.imread('/content/drive/MyDrive/HW4/test/'+filename)\r\n",
        "  ans = predict(img)\r\n",
        "  print('圖片:{0}, 預測:{1}'.format(filename, ans))"
      ],
      "execution_count": 15,
      "outputs": [
        {
          "output_type": "stream",
          "text": [
            "圖片:7109056015_1_indoor.jpg, 預測:indoor\n",
            "圖片:7109056015_4_indoor.jpg, 預測:indoor\n",
            "圖片:7109056015_5_indoor.jpg, 預測:indoor\n",
            "圖片:7109056015_3_indoor.jpg, 預測:indoor\n",
            "圖片:7109056015_2_indoor.jpg, 預測:indoor\n",
            "圖片:7109056015_5.jpg, 預測:indoor\n",
            "圖片:7109056015_3.jpg, 預測:indoor\n",
            "圖片:7109056015_1.jpg, 預測:indoor\n",
            "圖片:7109056015_2.jpg, 預測:outdoor\n",
            "圖片:7109056015_4.jpg, 預測:indoor\n"
          ],
          "name": "stdout"
        }
      ]
    }
  ]
}